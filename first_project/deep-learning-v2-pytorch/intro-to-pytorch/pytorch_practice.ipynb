{
 "cells": [
  {
   "cell_type": "code",
   "execution_count": 110,
   "id": "5e3e59dc",
   "metadata": {},
   "outputs": [],
   "source": [
    "import torch\n",
    "from torchvision import datasets, transforms\n",
    "import helper\n",
    "from collections import OrderedDict\n",
    "from torch import nn\n",
    "import torch.nn.functional as F\n",
    "from torch import optim"
   ]
  },
  {
   "cell_type": "code",
   "execution_count": 111,
   "id": "5e26ad50",
   "metadata": {},
   "outputs": [],
   "source": [
    "# Define a transform to normalize the data\n",
    "transform = transforms.Compose([transforms.ToTensor(),\n",
    "                                transforms.Normalize((0.5,), (0.5,))])\n",
    "# Download and load the training data\n",
    "trainset = datasets.FashionMNIST('~/.pytorch/F_MNIST_data/', download=True, train=True, transform=transform)\n",
    "trainloader = torch.utils.data.DataLoader(trainset, batch_size=64, shuffle=True)\n",
    "\n",
    "# Download and load the test data\n",
    "testset = datasets.FashionMNIST('~/.pytorch/F_MNIST_data/', download=True, train=False, transform=transform)\n",
    "testloader = torch.utils.data.DataLoader(testset, batch_size=64, shuffle=True)"
   ]
  },
  {
   "cell_type": "code",
   "execution_count": 112,
   "id": "7ce4da88",
   "metadata": {},
   "outputs": [],
   "source": [
    "image,label = next(iter(trainloader))"
   ]
  },
  {
   "cell_type": "code",
   "execution_count": 113,
   "id": "c0ad97d6",
   "metadata": {},
   "outputs": [
    {
     "data": {
      "text/plain": [
       "torch.Size([64, 1, 28, 28])"
      ]
     },
     "execution_count": 113,
     "metadata": {},
     "output_type": "execute_result"
    }
   ],
   "source": [
    "images.shape"
   ]
  },
  {
   "cell_type": "code",
   "execution_count": 42,
   "id": "d7485249",
   "metadata": {},
   "outputs": [
    {
     "data": {
      "image/png": "[encoded data removed]",
      "text/plain": [
       "<Figure size 432x288 with 1 Axes>"
      ]
     },
     "metadata": {
      "needs_background": "light"
     },
     "output_type": "display_data"
    }
   ],
   "source": [
    "\n",
    "helper.imshow(image[5,:]);\n"
   ]
  },
  {
   "cell_type": "code",
   "execution_count": 77,
   "id": "e4e64b5f",
   "metadata": {},
   "outputs": [],
   "source": [
    "#Define network architicure \n",
    "network = nn.Sequential(OrderedDict([\n",
    "                                    ('hidden1',nn.Linear(784, 256)), \n",
    "                                    ('relu_1', nn.ReLU()),\n",
    "                                    ('hidden2',nn.Linear(256,128)),\n",
    "                                     ('relu_2',nn.ReLU()),\n",
    "                                    ('hidden3',nn.Linear(128,64)),\n",
    "                                     ('relu_3',nn.ReLU()),\n",
    "                                    ('output',nn.Linear(64,10)),\n",
    "                                     ('softmax', nn.LogSoftmax(dim=1))]))\n"
   ]
  },
  {
   "cell_type": "code",
   "execution_count": 58,
   "id": "fb6d5e7f",
   "metadata": {},
   "outputs": [],
   "source": [
    "network = nn.Sequential(nn.Linear(784, 128),\n",
    "                      nn.ReLU(),\n",
    "                      nn.Linear(128, 64),\n",
    "                      nn.ReLU(),\n",
    "                      nn.Linear(64, 10),\n",
    "                      nn.LogSoftmax(dim=1))"
   ]
  },
  {
   "cell_type": "code",
   "execution_count": 78,
   "id": "2adbd5e4",
   "metadata": {},
   "outputs": [],
   "source": [
    "criterion = nn.NLLLoss()\n",
    "optimizer = optim.Adam(network.parameters(),lr=0.001)"
   ]
  },
  {
   "cell_type": "code",
   "execution_count": 79,
   "id": "74939c5b",
   "metadata": {},
   "outputs": [
    {
     "name": "stdout",
     "output_type": "stream",
     "text": [
      "loss:  0.5127267210500073\n",
      "loss:  0.3751904752208734\n",
      "loss:  0.33645838344179746\n",
      "loss:  0.3101986176582542\n",
      "loss:  0.2941242045859919\n",
      "loss:  0.2764130454264216\n"
     ]
    }
   ],
   "source": [
    "epoch=6\n",
    "for i in range(epoch):\n",
    "    sumloss=0\n",
    "    for images, labels in trainloader:\n",
    "        images= images.view(images.shape[0],-1)\n",
    "        optimizer.zero_grad()\n",
    "        out= network(images)\n",
    "        loss = criterion(out,labels)\n",
    "        loss.backward()\n",
    "        optimizer.step()\n",
    "        sumloss+=loss.item()\n",
    "    else:\n",
    "        print(\"loss: \",sumloss/len(trainloader) )\n",
    "        \n",
    "        \n",
    "        \n",
    "    \n",
    "    "
   ]
  },
  {
   "cell_type": "code",
   "execution_count": 61,
   "id": "9ea563a7",
   "metadata": {},
   "outputs": [
    {
     "name": "stdout",
     "output_type": "stream",
     "text": [
      "Training loss: 1.3297379541752943\n",
      "Training loss: 0.7536156434240118\n",
      "Training loss: 0.6383755083150192\n",
      "Training loss: 0.5849258073293833\n",
      "Training loss: 0.5492475772463182\n"
     ]
    }
   ],
   "source": [
    "criterion = nn.NLLLoss()\n",
    "optimizer = optim.SGD(network.parameters(), lr=0.003)\n",
    "\n",
    "epochs = 5\n",
    "for e in range(epochs):\n",
    "    running_loss = 0\n",
    "    for images, labels in trainloader:\n",
    "        # Flatten MNIST images into a 784 long vector\n",
    "        images = images.view(images.shape[0], -1)\n",
    "    \n",
    "        # TODO: Training pass\n",
    "        optimizer.zero_grad()\n",
    "\n",
    "# Forward pass, then backward pass, then update weights\n",
    "        output = network(images)\n",
    "        loss = criterion(output, labels)\n",
    "        loss.backward()\n",
    "        optimizer.step()\n",
    "        \n",
    "        running_loss += loss.item()\n",
    "    else:\n",
    "        print(f\"Training loss: {running_loss/len(trainloader)}\")"
   ]
  },
  {
   "cell_type": "code",
   "execution_count": 109,
   "id": "91f6fe54",
   "metadata": {},
   "outputs": [
    {
     "name": "stdout",
     "output_type": "stream",
     "text": [
      "label:  tensor([0, 6, 1, 5, 7, 0, 3, 9, 3, 2, 1, 0, 9, 0, 1, 6, 9, 6, 9, 7, 8, 0, 5, 9,\n",
      "        4, 9, 7, 9, 9, 1, 0, 1, 0, 2, 4, 5, 3, 2, 5, 1, 6, 4, 8, 6, 4, 0, 0, 8,\n",
      "        9, 5, 1, 0, 4, 2, 2, 2, 1, 6, 7, 6, 7, 3, 9, 0])\n",
      "prediction :  tensor(0)\n",
      "tensor(True)\n"
     ]
    },
    {
     "data": {
      "image/png": "[encoded data removed]",
      "text/plain": [
       "<Figure size 432x648 with 2 Axes>"
      ]
     },
     "metadata": {
      "image/png": {
       "height": 216,
       "width": 424
      },
      "needs_background": "light"
     },
     "output_type": "display_data"
    }
   ],
   "source": [
    "%matplotlib inline\n",
    "%config InlineBackend.figure_format = 'retina'\n",
    "\n",
    "import helper\n",
    "\n",
    "# Test out your network!\n",
    "\n",
    "dataiter = iter(testloader)\n",
    "images, labels = dataiter.next()\n",
    "img = images[0]\n",
    "\n",
    "# Convert 2D image to 1D vector\n",
    "img = img.resize_(1, 784)\n",
    "print(\"label: \",labels)\n",
    "print(\"prediction : \",torch.argmax(torch.exp(network(img))))\n",
    "print(torch.argmax(torch.exp(network(img)))==(labels[0]))\n",
    "# TODO: Calculate the class probabilities (softmax) for img\n",
    "ps = torch.exp(network(img))\n",
    "\n",
    "# Plot the image and probabilities\n",
    "helper.view_classify(img.resize_(1, 28, 28), ps, version='Fashion')"
   ]
  },
  {
   "cell_type": "code",
   "execution_count": 108,
   "id": "d53ad228",
   "metadata": {},
   "outputs": [
    {
     "name": "stdout",
     "output_type": "stream",
     "text": [
      "correcr:54, all64,percent84.375 \n",
      "correcr:112, all128,percent87.5 \n",
      "correcr:164, all192,percent85.41666666666666 \n",
      "correcr:220, all256,percent85.9375 \n",
      "correcr:278, all320,percent86.875 \n",
      "correcr:330, all384,percent85.9375 \n",
      "correcr:390, all448,percent87.05357142857143 \n",
      "correcr:442, all512,percent86.328125 \n",
      "correcr:499, all576,percent86.63194444444444 \n",
      "correcr:556, all640,percent86.875 \n",
      "correcr:611, all704,percent86.78977272727273 \n",
      "correcr:666, all768,percent86.71875 \n",
      "correcr:726, all832,percent87.25961538461539 \n",
      "correcr:784, all896,percent87.5 \n",
      "correcr:842, all960,percent87.70833333333333 \n",
      "correcr:895, all1024,percent87.40234375 \n",
      "correcr:950, all1088,percent87.31617647058823 \n",
      "correcr:1012, all1152,percent87.84722222222221 \n",
      "correcr:1064, all1216,percent87.5 \n",
      "correcr:1123, all1280,percent87.734375 \n",
      "correcr:1174, all1344,percent87.35119047619048 \n",
      "correcr:1232, all1408,percent87.5 \n",
      "correcr:1292, all1472,percent87.77173913043478 \n",
      "correcr:1347, all1536,percent87.6953125 \n",
      "correcr:1405, all1600,percent87.8125 \n",
      "correcr:1462, all1664,percent87.86057692307693 \n",
      "correcr:1517, all1728,percent87.78935185185185 \n",
      "correcr:1576, all1792,percent87.94642857142857 \n",
      "correcr:1632, all1856,percent87.93103448275862 \n",
      "correcr:1689, all1920,percent87.96875 \n",
      "correcr:1744, all1984,percent87.90322580645162 \n",
      "correcr:1797, all2048,percent87.744140625 \n",
      "correcr:1854, all2112,percent87.7840909090909 \n",
      "correcr:1912, all2176,percent87.86764705882352 \n",
      "correcr:1969, all2240,percent87.90178571428572 \n",
      "correcr:2024, all2304,percent87.84722222222221 \n",
      "correcr:2081, all2368,percent87.88006756756756 \n",
      "correcr:2137, all2432,percent87.87006578947368 \n",
      "correcr:2195, all2496,percent87.94070512820514 \n",
      "correcr:2248, all2560,percent87.8125 \n",
      "correcr:2308, all2624,percent87.95731707317073 \n",
      "correcr:2367, all2688,percent88.05803571428571 \n",
      "correcr:2422, all2752,percent88.00872093023256 \n",
      "correcr:2474, all2816,percent87.85511363636364 \n",
      "correcr:2529, all2880,percent87.8125 \n",
      "correcr:2581, all2944,percent87.66983695652173 \n",
      "correcr:2640, all3008,percent87.7659574468085 \n",
      "correcr:2695, all3072,percent87.72786458333334 \n",
      "correcr:2748, all3136,percent87.62755102040816 \n",
      "correcr:2805, all3200,percent87.65625 \n",
      "correcr:2862, all3264,percent87.68382352941177 \n",
      "correcr:2913, all3328,percent87.53004807692307 \n",
      "correcr:2974, all3392,percent87.67688679245283 \n",
      "correcr:3031, all3456,percent87.70254629629629 \n",
      "correcr:3086, all3520,percent87.67045454545455 \n",
      "correcr:3143, all3584,percent87.6953125 \n",
      "correcr:3205, all3648,percent87.85635964912281 \n",
      "correcr:3258, all3712,percent87.76939655172413 \n",
      "correcr:3318, all3776,percent87.8707627118644 \n",
      "correcr:3374, all3840,percent87.86458333333333 \n",
      "correcr:3434, all3904,percent87.9610655737705 \n",
      "correcr:3488, all3968,percent87.90322580645162 \n",
      "correcr:3543, all4032,percent87.87202380952381 \n",
      "correcr:3597, all4096,percent87.8173828125 \n",
      "correcr:3655, all4160,percent87.86057692307693 \n",
      "correcr:3710, all4224,percent87.83143939393939 \n",
      "correcr:3765, all4288,percent87.80317164179104 \n",
      "correcr:3823, all4352,percent87.84466911764706 \n",
      "correcr:3883, all4416,percent87.9302536231884 \n",
      "correcr:3939, all4480,percent87.92410714285714 \n",
      "correcr:3990, all4544,percent87.8080985915493 \n",
      "correcr:4048, all4608,percent87.84722222222221 \n",
      "correcr:4102, all4672,percent87.79965753424658 \n",
      "correcr:4161, all4736,percent87.8589527027027 \n",
      "correcr:4214, all4800,percent87.79166666666667 \n",
      "correcr:4271, all4864,percent87.80838815789474 \n",
      "correcr:4326, all4928,percent87.7840909090909 \n",
      "correcr:4383, all4992,percent87.80048076923077 \n",
      "correcr:4441, all5056,percent87.83623417721519 \n",
      "correcr:4496, all5120,percent87.8125 \n",
      "correcr:4550, all5184,percent87.77006172839506 \n",
      "correcr:4606, all5248,percent87.76676829268293 \n",
      "correcr:4665, all5312,percent87.82003012048193 \n",
      "correcr:4720, all5376,percent87.79761904761905 \n",
      "correcr:4774, all5440,percent87.75735294117646 \n",
      "correcr:4833, all5504,percent87.80886627906976 \n",
      "correcr:4887, all5568,percent87.76939655172413 \n",
      "correcr:4944, all5632,percent87.7840909090909 \n",
      "correcr:4998, all5696,percent87.74578651685393 \n",
      "correcr:5057, all5760,percent87.79513888888889 \n",
      "correcr:5112, all5824,percent87.77472527472527 \n",
      "correcr:5167, all5888,percent87.75475543478261 \n",
      "correcr:5219, all5952,percent87.68481182795699 \n",
      "correcr:5275, all6016,percent87.68284574468085 \n",
      "correcr:5326, all6080,percent87.59868421052632 \n",
      "correcr:5380, all6144,percent87.56510416666666 \n",
      "correcr:5440, all6208,percent87.62886597938144 \n",
      "correcr:5500, all6272,percent87.69132653061224 \n",
      "correcr:5558, all6336,percent87.72095959595958 \n",
      "correcr:5616, all6400,percent87.75 \n",
      "correcr:5668, all6464,percent87.68564356435643 \n",
      "correcr:5724, all6528,percent87.68382352941177 \n",
      "correcr:5780, all6592,percent87.68203883495146 \n",
      "correcr:5836, all6656,percent87.68028846153845 \n",
      "correcr:5891, all6720,percent87.66369047619048 \n",
      "correcr:5944, all6784,percent87.61792452830188 \n",
      "correcr:5999, all6848,percent87.60221962616822 \n",
      "correcr:6056, all6912,percent87.61574074074075 \n",
      "correcr:6115, all6976,percent87.65768348623854 \n",
      "correcr:6170, all7040,percent87.64204545454545 \n",
      "correcr:6227, all7104,percent87.65484234234235 \n",
      "correcr:6284, all7168,percent87.66741071428571 \n",
      "correcr:6337, all7232,percent87.62444690265487 \n",
      "correcr:6392, all7296,percent87.60964912280701 \n",
      "correcr:6444, all7360,percent87.55434782608695 \n",
      "correcr:6497, all7424,percent87.5134698275862 \n",
      "correcr:6554, all7488,percent87.5267094017094 \n",
      "correcr:6609, all7552,percent87.51324152542372 \n",
      "correcr:6663, all7616,percent87.48686974789915 \n",
      "correcr:6716, all7680,percent87.44791666666667 \n",
      "correcr:6772, all7744,percent87.44834710743802 \n",
      "correcr:6833, all7808,percent87.51280737704919 \n",
      "correcr:6885, all7872,percent87.46189024390245 \n",
      "correcr:6939, all7936,percent87.43699596774194 \n",
      "correcr:6997, all8000,percent87.4625 \n",
      "correcr:7055, all8064,percent87.48759920634922 \n",
      "correcr:7117, all8128,percent87.5615157480315 \n",
      "correcr:7174, all8192,percent87.5732421875 \n",
      "correcr:7229, all8256,percent87.56056201550388 \n",
      "correcr:7286, all8320,percent87.57211538461539 \n",
      "correcr:7343, all8384,percent87.58349236641222 \n",
      "correcr:7398, all8448,percent87.57102272727273 \n",
      "correcr:7454, all8512,percent87.57048872180451 \n",
      "correcr:7513, all8576,percent87.60494402985076 \n",
      "correcr:7564, all8640,percent87.5462962962963 \n",
      "correcr:7619, all8704,percent87.53446691176471 \n",
      "correcr:7676, all8768,percent87.5456204379562 \n",
      "correcr:7733, all8832,percent87.55661231884058 \n",
      "correcr:7791, all8896,percent87.57868705035972 \n",
      "correcr:7846, all8960,percent87.56696428571429 \n",
      "correcr:7901, all9024,percent87.55540780141844 \n",
      "correcr:7955, all9088,percent87.53301056338029 \n",
      "correcr:8013, all9152,percent87.55463286713287 \n",
      "correcr:8070, all9216,percent87.56510416666666 \n",
      "correcr:8123, all9280,percent87.53232758620689 \n",
      "correcr:8174, all9344,percent87.47859589041096 \n",
      "correcr:8230, all9408,percent87.47874149659864 \n",
      "correcr:8290, all9472,percent87.52111486486487 \n",
      "correcr:8348, all9536,percent87.54194630872483 \n",
      "correcr:8402, all9600,percent87.52083333333334 \n",
      "correcr:8454, all9664,percent87.4793046357616 \n",
      "correcr:8508, all9728,percent87.45888157894737 \n",
      "correcr:8560, all9792,percent87.41830065359477 \n",
      "correcr:8615, all9856,percent87.40868506493507 \n",
      "correcr:8672, all9920,percent87.41935483870968 \n",
      "correcr:8722, all9984,percent87.35977564102564 \n",
      "correcr:8736, all10000,percent87.36 \n"
     ]
    }
   ],
   "source": [
    "counter=0\n",
    "correct=0\n",
    "for images,labels in testloader:\n",
    "    for i in range(images.shape[0]):\n",
    "        counter+=1\n",
    "        img = images[i]\n",
    "        img = img.resize_(1, 784)\n",
    "        p= torch.exp(network(img))\n",
    "        if(torch.argmax(p)==(labels[i])):\n",
    "            correct+=1\n",
    "    print(\"correcr:{}, all{},percent{} \".format(correct,counter,correct/counter *100))\n",
    "            \n",
    "        \n",
    "        \n",
    "    \n",
    "    "
   ]
  },
  {
   "cell_type": "code",
   "execution_count": null,
   "id": "299a6d79",
   "metadata": {},
   "outputs": [],
   "source": []
  }
 ],
 "metadata": {
  "kernelspec": {
   "display_name": "dlnd",
   "language": "python",
   "name": "dlnd"
  },
  "language_info": {
   "codemirror_mode": {
    "name": "ipython",
    "version": 3
   },
   "file_extension": ".py",
   "mimetype": "text/x-python",
   "name": "python",
   "nbconvert_exporter": "python",
   "pygments_lexer": "ipython3",
   "version": "3.9.7"
  }
 },
 "nbformat": 4,
 "nbformat_minor": 5
}
